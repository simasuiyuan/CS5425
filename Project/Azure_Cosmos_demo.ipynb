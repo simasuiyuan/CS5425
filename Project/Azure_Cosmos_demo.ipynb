{
 "cells": [
  {
   "cell_type": "code",
   "execution_count": 1,
   "metadata": {},
   "outputs": [],
   "source": [
    "from azure.cosmos import CosmosClient, exceptions\n",
    "\n",
    "import csv \n",
    "import json\n",
    "import sys\n",
    "\n",
    "%load_ext autoreload\n",
    "%autoreload\n",
    "from src.AzureCosmos_connector import COSMOS_CONNECTOR"
   ]
  },
  {
   "cell_type": "code",
   "execution_count": 2,
   "metadata": {},
   "outputs": [],
   "source": [
    "cosmosDB = COSMOS_CONNECTOR()"
   ]
  },
  {
   "cell_type": "code",
   "execution_count": 3,
   "metadata": {},
   "outputs": [
    {
     "name": "stdout",
     "output_type": "stream",
     "text": [
      "Databases:\n",
      "image-embeddings-db\n",
      "==========\n",
      "Database with id 'image-embeddings-db' was found\n",
      "==========\n",
      "Database with id 'image-embeddings-db' was found, it's link is dbs/image-embeddings-db\n"
     ]
    }
   ],
   "source": [
    "cosmosDB.list_databases()\n",
    "print(\"=\"*10)\n",
    "cosmosDB.find_database(\"image-embeddings-db\")\n",
    "print(\"=\"*10)\n",
    "emd_db = cosmosDB.get_database(\"image-embeddings-db\")"
   ]
  },
  {
   "cell_type": "code",
   "execution_count": 4,
   "metadata": {},
   "outputs": [
    {
     "name": "stdout",
     "output_type": "stream",
     "text": [
      "Containers:\n",
      "clustered-meta-data\n",
      "bert-encodings\n",
      "==========\n",
      "Container with id 'clustered-meta-data' was found\n",
      "==========\n",
      "Container with id 'clustered-meta-data' was found, it's link is dbs/image-embeddings-db/colls/clustered-meta-data\n"
     ]
    }
   ],
   "source": [
    "cosmosDB.list_containers(emd_db)\n",
    "print(\"=\"*10)\n",
    "cosmosDB.find_container(emd_db, \"clustered-meta-data\")\n",
    "print(\"=\"*10)\n",
    "metaContainer= cosmosDB.get_container(emd_db, \"clustered-meta-data\")"
   ]
  },
  {
   "cell_type": "code",
   "execution_count": null,
   "metadata": {},
   "outputs": [],
   "source": [
    "\"\"\" will get a large datafram (1GB)\n",
    "use by cautious\n",
    "\"\"\"\n",
    "cosmosDB.get_full_document_to_pd(metaContainer, if_pandas=True).head(2)"
   ]
  },
  {
   "cell_type": "code",
   "execution_count": 5,
   "metadata": {},
   "outputs": [
    {
     "data": {
      "text/html": [
       "<div>\n",
       "<style scoped>\n",
       "    .dataframe tbody tr th:only-of-type {\n",
       "        vertical-align: middle;\n",
       "    }\n",
       "\n",
       "    .dataframe tbody tr th {\n",
       "        vertical-align: top;\n",
       "    }\n",
       "\n",
       "    .dataframe thead th {\n",
       "        text-align: right;\n",
       "    }\n",
       "</style>\n",
       "<table border=\"1\" class=\"dataframe\">\n",
       "  <thead>\n",
       "    <tr style=\"text-align: right;\">\n",
       "      <th></th>\n",
       "      <th>id</th>\n",
       "      <th>cluster_id</th>\n",
       "      <th>cluster_centroid</th>\n",
       "      <th>dataset</th>\n",
       "      <th>url</th>\n",
       "      <th>encd</th>\n",
       "      <th>img_name</th>\n",
       "      <th>_rid</th>\n",
       "      <th>_self</th>\n",
       "      <th>_etag</th>\n",
       "      <th>_attachments</th>\n",
       "      <th>_ts</th>\n",
       "    </tr>\n",
       "  </thead>\n",
       "  <tbody>\n",
       "    <tr>\n",
       "      <th>0</th>\n",
       "      <td>images_000000000001</td>\n",
       "      <td>9</td>\n",
       "      <td>[2.1947617275457807, 2.295159087601433, 5.0072...</td>\n",
       "      <td>images</td>\n",
       "      <td>https://cs5425imagedata.blob.core.windows.net/...</td>\n",
       "      <td>[-0.39324715733528137, 0.440214067697525, -1.1...</td>\n",
       "      <td>000000000001</td>\n",
       "      <td>01krAORYUVkBAAAAAAAAAA==</td>\n",
       "      <td>dbs/01krAA==/colls/01krAORYUVk=/docs/01krAORYU...</td>\n",
       "      <td>\"45007e1a-0000-1900-0000-62476a470000\"</td>\n",
       "      <td>attachments/</td>\n",
       "      <td>1648847431</td>\n",
       "    </tr>\n",
       "    <tr>\n",
       "      <th>1</th>\n",
       "      <td>images_000000000019</td>\n",
       "      <td>24</td>\n",
       "      <td>[0.8237275222864728, 11.10838134006322, -3.727...</td>\n",
       "      <td>images</td>\n",
       "      <td>https://cs5425imagedata.blob.core.windows.net/...</td>\n",
       "      <td>[-0.007508492562919855, 0.4850575923919678, -0...</td>\n",
       "      <td>000000000019</td>\n",
       "      <td>01krAORYUVkDAAAAAAAAAA==</td>\n",
       "      <td>dbs/01krAA==/colls/01krAORYUVk=/docs/01krAORYU...</td>\n",
       "      <td>\"4500801a-0000-1900-0000-62476a480000\"</td>\n",
       "      <td>attachments/</td>\n",
       "      <td>1648847432</td>\n",
       "    </tr>\n",
       "    <tr>\n",
       "      <th>2</th>\n",
       "      <td>images_000000000063</td>\n",
       "      <td>1</td>\n",
       "      <td>[0.6532268352227274, -1.5335694497908743, -0.5...</td>\n",
       "      <td>images</td>\n",
       "      <td>https://cs5425imagedata.blob.core.windows.net/...</td>\n",
       "      <td>[0.09131952375173569, -0.8119602203369141, -0....</td>\n",
       "      <td>000000000063</td>\n",
       "      <td>01krAORYUVkFAAAAAAAAAA==</td>\n",
       "      <td>dbs/01krAA==/colls/01krAORYUVk=/docs/01krAORYU...</td>\n",
       "      <td>\"4500821a-0000-1900-0000-62476a480000\"</td>\n",
       "      <td>attachments/</td>\n",
       "      <td>1648847432</td>\n",
       "    </tr>\n",
       "  </tbody>\n",
       "</table>\n",
       "</div>"
      ],
      "text/plain": [
       "                    id  cluster_id  \\\n",
       "0  images_000000000001           9   \n",
       "1  images_000000000019          24   \n",
       "2  images_000000000063           1   \n",
       "\n",
       "                                    cluster_centroid dataset  \\\n",
       "0  [2.1947617275457807, 2.295159087601433, 5.0072...  images   \n",
       "1  [0.8237275222864728, 11.10838134006322, -3.727...  images   \n",
       "2  [0.6532268352227274, -1.5335694497908743, -0.5...  images   \n",
       "\n",
       "                                                 url  \\\n",
       "0  https://cs5425imagedata.blob.core.windows.net/...   \n",
       "1  https://cs5425imagedata.blob.core.windows.net/...   \n",
       "2  https://cs5425imagedata.blob.core.windows.net/...   \n",
       "\n",
       "                                                encd      img_name  \\\n",
       "0  [-0.39324715733528137, 0.440214067697525, -1.1...  000000000001   \n",
       "1  [-0.007508492562919855, 0.4850575923919678, -0...  000000000019   \n",
       "2  [0.09131952375173569, -0.8119602203369141, -0....  000000000063   \n",
       "\n",
       "                       _rid  \\\n",
       "0  01krAORYUVkBAAAAAAAAAA==   \n",
       "1  01krAORYUVkDAAAAAAAAAA==   \n",
       "2  01krAORYUVkFAAAAAAAAAA==   \n",
       "\n",
       "                                               _self  \\\n",
       "0  dbs/01krAA==/colls/01krAORYUVk=/docs/01krAORYU...   \n",
       "1  dbs/01krAA==/colls/01krAORYUVk=/docs/01krAORYU...   \n",
       "2  dbs/01krAA==/colls/01krAORYUVk=/docs/01krAORYU...   \n",
       "\n",
       "                                    _etag  _attachments         _ts  \n",
       "0  \"45007e1a-0000-1900-0000-62476a470000\"  attachments/  1648847431  \n",
       "1  \"4500801a-0000-1900-0000-62476a480000\"  attachments/  1648847432  \n",
       "2  \"4500821a-0000-1900-0000-62476a480000\"  attachments/  1648847432  "
      ]
     },
     "execution_count": 5,
     "metadata": {},
     "output_type": "execute_result"
    }
   ],
   "source": [
    "ids = [\"images_000000000001\", \"images_000000000019\", \"images_000000000063\"]\n",
    "meta_data = cosmosDB.query_by_multiId(metaContainer, ids, if_pandas=True)\n",
    "meta_data"
   ]
  },
  {
   "cell_type": "code",
   "execution_count": 13,
   "metadata": {},
   "outputs": [
    {
     "name": "stdout",
     "output_type": "stream",
     "text": [
      "[-0.007508492562919855, 0.4850575923919678, -0.656403124332428, -0.37877821922302246, -0.2858748137950897, 0.5738587975502014, -0.40583816170692444, 0.2839474678039551, -0.09739869087934494, -0.49087604880332947]\n",
      "images_000000000019\n"
     ]
    }
   ],
   "source": [
    "query_embedding = meta_data[\"encd\"].iloc[1]\n",
    "print(query_embedding[:10])\n",
    "print(meta_data[\"id\"].iloc[1])"
   ]
  },
  {
   "cell_type": "code",
   "execution_count": 8,
   "metadata": {},
   "outputs": [
    {
     "name": "stdout",
     "output_type": "stream",
     "text": [
      "The autoreload extension is already loaded. To reload it, use:\n",
      "  %reload_ext autoreload\n",
      "Database with id 'image-embeddings-db' was found, it's link is dbs/image-embeddings-db\n",
      "Container with id 'clustered-meta-data' was found, it's link is dbs/image-embeddings-db/colls/clustered-meta-data\n",
      "Query belongs to cluster 24\n"
     ]
    }
   ],
   "source": [
    "%load_ext autoreload\n",
    "%autoreload\n",
    "from src.topKImages import topKImages_Azure\n",
    "image_res, similarities = topKImages_Azure(query_embedding, k=20)"
   ]
  },
  {
   "cell_type": "code",
   "execution_count": 9,
   "metadata": {},
   "outputs": [
    {
     "data": {
      "text/plain": [
       "array([0.87217975, 0.87964899, 0.88289172, 0.88691453, 0.89066712,\n",
       "       0.8921121 , 0.89522343, 0.89689387, 0.89705573, 0.89989139,\n",
       "       0.89991912, 0.90408749, 0.91310273, 0.9207164 , 0.92126763,\n",
       "       0.92398308, 0.92481768, 0.93271062, 0.96702883, 1.        ])"
      ]
     },
     "execution_count": 9,
     "metadata": {},
     "output_type": "execute_result"
    }
   ],
   "source": [
    "similarities"
   ]
  },
  {
   "cell_type": "code",
   "execution_count": 10,
   "metadata": {},
   "outputs": [
    {
     "data": {
      "text/plain": [
       "array(['000000087167', '4ff7332ca734b0ba', '4767621f956b3d0c',\n",
       "       '000000097442', '000000181225', 'd48a0f2253202d99',\n",
       "       '58b3906f2adfe7a1', '000000026689', '000000139925',\n",
       "       'd95cb72e629f07dc', 'a4e8f96810dab5f3', '650a5da733ff17fe',\n",
       "       '000000309691', '000000193437', '000000012127', '000000246325',\n",
       "       '224ad16181d9fb6b', '000000200581', 'a220a5426b21e90a',\n",
       "       '000000000019'], dtype='<U16')"
      ]
     },
     "execution_count": 10,
     "metadata": {},
     "output_type": "execute_result"
    }
   ],
   "source": [
    "image_res"
   ]
  },
  {
   "cell_type": "code",
   "execution_count": null,
   "metadata": {},
   "outputs": [],
   "source": []
  }
 ],
 "metadata": {
  "interpreter": {
   "hash": "920bfbcc0db8631c224b11aa06178e6cde32153641dabc78dcbceffb115d1df4"
  },
  "kernelspec": {
   "display_name": "Python 3.10.4 ('CS5425')",
   "language": "python",
   "name": "python3"
  },
  "language_info": {
   "codemirror_mode": {
    "name": "ipython",
    "version": 3
   },
   "file_extension": ".py",
   "mimetype": "text/x-python",
   "name": "python",
   "nbconvert_exporter": "python",
   "pygments_lexer": "ipython3",
   "version": "3.9.11"
  },
  "orig_nbformat": 4
 },
 "nbformat": 4,
 "nbformat_minor": 2
}
