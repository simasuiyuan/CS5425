{
 "cells": [
  {
   "cell_type": "markdown",
   "metadata": {},
   "source": [
    "# mongoDB demo"
   ]
  },
  {
   "cell_type": "code",
   "execution_count": 1,
   "metadata": {},
   "outputs": [],
   "source": [
    "import pymongo\n",
    "import pandas as pd\n",
    "\n",
    "%load_ext autoreload\n",
    "%autoreload\n",
    "from src.mongoDB_connector import MONGODB_CONNECTOR"
   ]
  },
  {
   "cell_type": "code",
   "execution_count": 2,
   "metadata": {},
   "outputs": [
    {
     "name": "stdout",
     "output_type": "stream",
     "text": [
      "available databases:['CS5425', 'admin', 'local']\n",
      "available collections/tables:['image_embedding'] from CS5425\n"
     ]
    }
   ],
   "source": [
    "DB_connector = MONGODB_CONNECTOR(user=\"shared_user\", token=\"2pZGb4axFMwpl3qR\")"
   ]
  },
  {
   "cell_type": "markdown",
   "metadata": {},
   "source": [
    "## read first line"
   ]
  },
  {
   "cell_type": "code",
   "execution_count": 3,
   "metadata": {},
   "outputs": [
    {
     "data": {
      "text/html": [
       "<div>\n",
       "<style scoped>\n",
       "    .dataframe tbody tr th:only-of-type {\n",
       "        vertical-align: middle;\n",
       "    }\n",
       "\n",
       "    .dataframe tbody tr th {\n",
       "        vertical-align: top;\n",
       "    }\n",
       "\n",
       "    .dataframe thead th {\n",
       "        text-align: right;\n",
       "    }\n",
       "</style>\n",
       "<table border=\"1\" class=\"dataframe\">\n",
       "  <thead>\n",
       "    <tr style=\"text-align: right;\">\n",
       "      <th></th>\n",
       "      <th>_id</th>\n",
       "      <th>img_name</th>\n",
       "      <th>bert_ecd</th>\n",
       "      <th>kmeans_cluster_id</th>\n",
       "      <th>kmeans_cluster_centroid</th>\n",
       "    </tr>\n",
       "  </thead>\n",
       "  <tbody>\n",
       "    <tr>\n",
       "      <th>0</th>\n",
       "      <td>6235fbeb8bea51f5f0f8a171</td>\n",
       "      <td>1008566138_6927679c8a.jpg</td>\n",
       "      <td>[-0.5449886322021484, 0.26467984914779663, 0.5...</td>\n",
       "      <td>0</td>\n",
       "      <td>[-6.068609248160182, -7.191674065634629, 4.521...</td>\n",
       "    </tr>\n",
       "  </tbody>\n",
       "</table>\n",
       "</div>"
      ],
      "text/plain": [
       "                        _id                   img_name  \\\n",
       "0  6235fbeb8bea51f5f0f8a171  1008566138_6927679c8a.jpg   \n",
       "\n",
       "                                            bert_ecd  kmeans_cluster_id  \\\n",
       "0  [-0.5449886322021484, 0.26467984914779663, 0.5...                  0   \n",
       "\n",
       "                             kmeans_cluster_centroid  \n",
       "0  [-6.068609248160182, -7.191674065634629, 4.521...  "
      ]
     },
     "execution_count": 3,
     "metadata": {},
     "output_type": "execute_result"
    }
   ],
   "source": [
    "DB_connector.find_one(type=\"pandas\")#type=origin"
   ]
  },
  {
   "cell_type": "markdown",
   "metadata": {},
   "source": [
    "## read full table"
   ]
  },
  {
   "cell_type": "code",
   "execution_count": 4,
   "metadata": {},
   "outputs": [
    {
     "data": {
      "text/html": [
       "<div>\n",
       "<style scoped>\n",
       "    .dataframe tbody tr th:only-of-type {\n",
       "        vertical-align: middle;\n",
       "    }\n",
       "\n",
       "    .dataframe tbody tr th {\n",
       "        vertical-align: top;\n",
       "    }\n",
       "\n",
       "    .dataframe thead th {\n",
       "        text-align: right;\n",
       "    }\n",
       "</style>\n",
       "<table border=\"1\" class=\"dataframe\">\n",
       "  <thead>\n",
       "    <tr style=\"text-align: right;\">\n",
       "      <th></th>\n",
       "      <th>_id</th>\n",
       "      <th>img_name</th>\n",
       "      <th>bert_ecd</th>\n",
       "      <th>kmeans_cluster_id</th>\n",
       "      <th>kmeans_cluster_centroid</th>\n",
       "    </tr>\n",
       "  </thead>\n",
       "  <tbody>\n",
       "    <tr>\n",
       "      <th>0</th>\n",
       "      <td>6235fbeb8bea51f5f0f8a171</td>\n",
       "      <td>1008566138_6927679c8a.jpg</td>\n",
       "      <td>[-0.5449886322021484, 0.26467984914779663, 0.5...</td>\n",
       "      <td>0</td>\n",
       "      <td>[-6.068609248160182, -7.191674065634629, 4.521...</td>\n",
       "    </tr>\n",
       "    <tr>\n",
       "      <th>1</th>\n",
       "      <td>6235fbeb8bea51f5f0f8a172</td>\n",
       "      <td>1022552002_2b93faf9e7_n.jpg</td>\n",
       "      <td>[-0.4078378975391388, -0.03765500709414482, 0....</td>\n",
       "      <td>16</td>\n",
       "      <td>[3.6643718638566876, 8.557126964694485, 8.0513...</td>\n",
       "    </tr>\n",
       "    <tr>\n",
       "      <th>2</th>\n",
       "      <td>6235fbeb8bea51f5f0f8a173</td>\n",
       "      <td>1022552036_67d33d5bd8_n.jpg</td>\n",
       "      <td>[-0.6686379313468933, -0.35899338126182556, 0....</td>\n",
       "      <td>6</td>\n",
       "      <td>[-7.9336315329280716, 3.1409215200124954, 0.81...</td>\n",
       "    </tr>\n",
       "    <tr>\n",
       "      <th>3</th>\n",
       "      <td>6235fbeb8bea51f5f0f8a174</td>\n",
       "      <td>10386503264_e05387e1f7_m.jpg</td>\n",
       "      <td>[-1.0181872844696045, 0.03845890238881111, -0....</td>\n",
       "      <td>17</td>\n",
       "      <td>[-7.31532278235924, 1.9370902929474656, 2.2857...</td>\n",
       "    </tr>\n",
       "    <tr>\n",
       "      <th>4</th>\n",
       "      <td>6235fbeb8bea51f5f0f8a175</td>\n",
       "      <td>10386522775_4f8c616999_m.jpg</td>\n",
       "      <td>[-0.3553635776042938, 0.04300282523036003, 0.0...</td>\n",
       "      <td>0</td>\n",
       "      <td>[-6.068609248160182, -7.191674065634629, 4.521...</td>\n",
       "    </tr>\n",
       "  </tbody>\n",
       "</table>\n",
       "</div>"
      ],
      "text/plain": [
       "                        _id                      img_name  \\\n",
       "0  6235fbeb8bea51f5f0f8a171     1008566138_6927679c8a.jpg   \n",
       "1  6235fbeb8bea51f5f0f8a172   1022552002_2b93faf9e7_n.jpg   \n",
       "2  6235fbeb8bea51f5f0f8a173   1022552036_67d33d5bd8_n.jpg   \n",
       "3  6235fbeb8bea51f5f0f8a174  10386503264_e05387e1f7_m.jpg   \n",
       "4  6235fbeb8bea51f5f0f8a175  10386522775_4f8c616999_m.jpg   \n",
       "\n",
       "                                            bert_ecd  kmeans_cluster_id  \\\n",
       "0  [-0.5449886322021484, 0.26467984914779663, 0.5...                  0   \n",
       "1  [-0.4078378975391388, -0.03765500709414482, 0....                 16   \n",
       "2  [-0.6686379313468933, -0.35899338126182556, 0....                  6   \n",
       "3  [-1.0181872844696045, 0.03845890238881111, -0....                 17   \n",
       "4  [-0.3553635776042938, 0.04300282523036003, 0.0...                  0   \n",
       "\n",
       "                             kmeans_cluster_centroid  \n",
       "0  [-6.068609248160182, -7.191674065634629, 4.521...  \n",
       "1  [3.6643718638566876, 8.557126964694485, 8.0513...  \n",
       "2  [-7.9336315329280716, 3.1409215200124954, 0.81...  \n",
       "3  [-7.31532278235924, 1.9370902929474656, 2.2857...  \n",
       "4  [-6.068609248160182, -7.191674065634629, 4.521...  "
      ]
     },
     "execution_count": 4,
     "metadata": {},
     "output_type": "execute_result"
    }
   ],
   "source": [
    "meta_data = DB_connector.read_table(type=\"pandas\")#type=origin\n",
    "meta_data.head()"
   ]
  },
  {
   "cell_type": "markdown",
   "metadata": {},
   "source": [
    "# Load & Use models (PCA, Kmeans)"
   ]
  },
  {
   "cell_type": "code",
   "execution_count": 5,
   "metadata": {},
   "outputs": [],
   "source": [
    "from joblib import load"
   ]
  },
  {
   "cell_type": "code",
   "execution_count": 6,
   "metadata": {},
   "outputs": [],
   "source": [
    "pca = load('./models/pca.joblib')\n",
    "kmeans = load('./models/kmeans.joblib')"
   ]
  },
  {
   "cell_type": "markdown",
   "metadata": {},
   "source": [
    "## get first sample: \n",
    "### bert_enc => pca_features => cluster_index/cluster_centroid"
   ]
  },
  {
   "cell_type": "code",
   "execution_count": 12,
   "metadata": {},
   "outputs": [
    {
     "data": {
      "text/plain": [
       "(1, 122)"
      ]
     },
     "execution_count": 12,
     "metadata": {},
     "output_type": "execute_result"
    }
   ],
   "source": [
    "reduced_feature = pca.transform([meta_data.loc[0, \"bert_ecd\"]])\n",
    "reduced_feature.shape"
   ]
  },
  {
   "cell_type": "code",
   "execution_count": 13,
   "metadata": {},
   "outputs": [
    {
     "data": {
      "text/plain": [
       "array([0])"
      ]
     },
     "execution_count": 13,
     "metadata": {},
     "output_type": "execute_result"
    }
   ],
   "source": [
    "kmeans.predict(reduced_feature)"
   ]
  },
  {
   "cell_type": "code",
   "execution_count": null,
   "metadata": {},
   "outputs": [],
   "source": []
  }
 ],
 "metadata": {
  "interpreter": {
   "hash": "188299b107256fe873ab79b6089594fb9be85d55d578db9419dca9181f4278ba"
  },
  "kernelspec": {
   "display_name": "Python 3.7.10 ('deeplearn_course')",
   "language": "python",
   "name": "python3"
  },
  "language_info": {
   "codemirror_mode": {
    "name": "ipython",
    "version": 3
   },
   "file_extension": ".py",
   "mimetype": "text/x-python",
   "name": "python",
   "nbconvert_exporter": "python",
   "pygments_lexer": "ipython3",
   "version": "3.7.10"
  },
  "orig_nbformat": 4
 },
 "nbformat": 4,
 "nbformat_minor": 2
}
